{
  "nbformat": 4,
  "nbformat_minor": 0,
  "metadata": {
    "colab": {
      "provenance": [],
      "authorship_tag": "ABX9TyPAcvzIIlVtPdldDmefxpnw",
      "include_colab_link": true
    },
    "kernelspec": {
      "name": "python3",
      "display_name": "Python 3"
    },
    "language_info": {
      "name": "python"
    }
  },
  "cells": [
    {
      "cell_type": "markdown",
      "metadata": {
        "id": "view-in-github",
        "colab_type": "text"
      },
      "source": [
        "<a href=\"https://colab.research.google.com/github/Taiba053/Python_Projects/blob/main/titanic.ipynb\" target=\"_parent\"><img src=\"https://colab.research.google.com/assets/colab-badge.svg\" alt=\"Open In Colab\"/></a>"
      ]
    },
    {
      "cell_type": "code",
      "execution_count": 8,
      "metadata": {
        "id": "Zjay_hZLtfXb"
      },
      "outputs": [],
      "source": [
        "#import library\n",
        "import pandas as pd\n",
        "import numpy as np\n",
        "from sklearn.model_selection import train_test_split\n"
      ]
    },
    {
      "cell_type": "code",
      "source": [
        "#import data\n",
        "df = pd.read_csv('https://github.com/YBIFoundation/Dataset/raw/main/TheTitanic.csv')\n"
      ],
      "metadata": {
        "id": "WfYkaBxhth80"
      },
      "execution_count": 10,
      "outputs": []
    },
    {
      "cell_type": "code",
      "source": [
        "print(df.info())\n",
        "print(df.head())\n"
      ],
      "metadata": {
        "colab": {
          "base_uri": "https://localhost:8080/"
        },
        "id": "x6f0gQ_FtkSd",
        "outputId": "1963ce37-554d-4ee7-bc62-cdce4e341b44"
      },
      "execution_count": 11,
      "outputs": [
        {
          "output_type": "stream",
          "name": "stdout",
          "text": [
            "<class 'pandas.core.frame.DataFrame'>\n",
            "RangeIndex: 1302 entries, 0 to 1301\n",
            "Data columns (total 10 columns):\n",
            " #   Column  Non-Null Count  Dtype \n",
            "---  ------  --------------  ----- \n",
            " 0   1       1302 non-null   object\n",
            " 1   2       1302 non-null   object\n",
            " 2   3       1302 non-null   object\n",
            " 3   4       1301 non-null   object\n",
            " 4   5       1301 non-null   object\n",
            " 5   6       1045 non-null   object\n",
            " 6   7       1300 non-null   object\n",
            " 7   8       1300 non-null   object\n",
            " 8   9       1296 non-null   object\n",
            " 9   10      1302 non-null   object\n",
            "dtypes: object(10)\n",
            "memory usage: 101.8+ KB\n",
            "None\n",
            "    1       2         3                            4       5    6       7  \\\n",
            "0  sn  pclass  survived                          NaN  gender  age  family   \n",
            "1   1       3         0                  Mr. Anthony    male   42       0   \n",
            "2   1       3         0                  Mr. Anthony    male   42       0   \n",
            "3   2       3         0        Master. Eugene Joseph    male    ?       2   \n",
            "4   3       2         0  Abbott, Mr. Rossmore Edward     NaN  NaN       2   \n",
            "\n",
            "       8         9         10  \n",
            "0   fare  embarked       date  \n",
            "1   7.55       NaN  01-Jan-90  \n",
            "2   7.55       NaN  01-Jan-90  \n",
            "3  20.25         S  02-Jan-90  \n",
            "4     **         S  03-Jan-90  \n"
          ]
        }
      ]
    },
    {
      "cell_type": "code",
      "source": [
        "#Fixing colum Names\n",
        "df.columns = ['sn', 'pclass', 'survived', 'name', 'gender', 'age', 'family', 'fare', 'embarked', 'date']\n",
        "print(df.head())\n"
      ],
      "metadata": {
        "colab": {
          "base_uri": "https://localhost:8080/"
        },
        "id": "032I8OjBtzUi",
        "outputId": "a902b198-d430-4546-ea9e-cd22c418f538"
      },
      "execution_count": 12,
      "outputs": [
        {
          "output_type": "stream",
          "name": "stdout",
          "text": [
            "   sn  pclass  survived                         name  gender  age  family  \\\n",
            "0  sn  pclass  survived                          NaN  gender  age  family   \n",
            "1   1       3         0                  Mr. Anthony    male   42       0   \n",
            "2   1       3         0                  Mr. Anthony    male   42       0   \n",
            "3   2       3         0        Master. Eugene Joseph    male    ?       2   \n",
            "4   3       2         0  Abbott, Mr. Rossmore Edward     NaN  NaN       2   \n",
            "\n",
            "    fare  embarked       date  \n",
            "0   fare  embarked       date  \n",
            "1   7.55       NaN  01-Jan-90  \n",
            "2   7.55       NaN  01-Jan-90  \n",
            "3  20.25         S  02-Jan-90  \n",
            "4     **         S  03-Jan-90  \n"
          ]
        }
      ]
    },
    {
      "cell_type": "code",
      "source": [
        "#Handling Missing Values\n",
        "df.isnull().sum()\n"
      ],
      "metadata": {
        "colab": {
          "base_uri": "https://localhost:8080/"
        },
        "id": "vjeu15zauBkX",
        "outputId": "9437f30c-a49a-4782-9ea2-331d64b26bc1"
      },
      "execution_count": 6,
      "outputs": [
        {
          "output_type": "execute_result",
          "data": {
            "text/plain": [
              "sn            0\n",
              "pclass        0\n",
              "survived      0\n",
              "name          1\n",
              "gender        1\n",
              "age         257\n",
              "family        2\n",
              "fare          2\n",
              "embarked      6\n",
              "date          0\n",
              "dtype: int64"
            ]
          },
          "metadata": {},
          "execution_count": 6
        }
      ]
    },
    {
      "cell_type": "code",
      "source": [
        "df = df[pd.to_numeric(df['sn'], errors='coerce').notnull()]\n",
        "df['sn'] = df['sn'].astype(int)\n",
        "\n",
        "df['age'] = pd.to_numeric(df['age'], errors='coerce')\n",
        "df['age'].fillna(df['age'].median(), inplace=True)\n",
        "\n",
        "df['family'].fillna(0, inplace=True)\n",
        "df['family'] = df['family'].astype(int)\n",
        "\n",
        "\n",
        "df['embarked'].fillna(df['embarked'].mode()[0], inplace=True)\n",
        "df['gender'].fillna(df['gender'].mode()[0], inplace=True)\n",
        "\n",
        "df.dropna(subset=['fare'], inplace=True)\n"
      ],
      "metadata": {
        "id": "r7mhhWt6uN2N"
      },
      "execution_count": 20,
      "outputs": []
    },
    {
      "cell_type": "code",
      "source": [
        "#converting data types\n",
        "df['pclass'] = df['pclass'].astype(int)\n",
        "df['survived'] = df['survived'].astype(int)\n",
        "df['family'] = df['family'].astype(int)\n",
        "df['date'] = pd.to_datetime(df['date'], format='%d-%b-%y')\n"
      ],
      "metadata": {
        "id": "dbwAYEEGyPi1"
      },
      "execution_count": 23,
      "outputs": []
    },
    {
      "cell_type": "code",
      "source": [
        "df['family_size'] = df['family'] + 1\n",
        "\n",
        "def extract_title(name):\n",
        "    if ',' in name and '.' in name:\n",
        "        return name.split(',')[1].split('.')[0].strip()\n",
        "    else:\n",
        "        return 'Unknown'\n",
        "\n",
        "df['title'] = df['name'].apply(extract_title)\n"
      ],
      "metadata": {
        "id": "RjArFzBczgX4"
      },
      "execution_count": 25,
      "outputs": []
    },
    {
      "cell_type": "code",
      "source": [
        "df = pd.get_dummies(df, columns=['gender', 'embarked', 'title'], drop_first=True)\n"
      ],
      "metadata": {
        "id": "LRAJy3-czzTp"
      },
      "execution_count": 26,
      "outputs": []
    },
    {
      "cell_type": "code",
      "source": [
        "#spliting Data\n",
        "X = df.drop(['survived', 'name', 'date'], axis=1)\n",
        "y = df['survived']\n",
        "\n",
        "X_train, X_test, y_train, y_test = train_test_split(X, y, test_size=0.2, random_state=42)\n"
      ],
      "metadata": {
        "id": "QF5tkDQFz1t7"
      },
      "execution_count": 27,
      "outputs": []
    },
    {
      "cell_type": "code",
      "source": [
        "#prediction\n",
        "print(X_train.head())\n",
        "print(X_test.head())\n",
        "print(y_train.head())\n",
        "print(y_test.head())\n"
      ],
      "metadata": {
        "colab": {
          "base_uri": "https://localhost:8080/"
        },
        "id": "iNoVvUsFz6-u",
        "outputId": "21adbd3e-157d-443e-c72f-755215cd8f5d"
      },
      "execution_count": 28,
      "outputs": [
        {
          "output_type": "stream",
          "name": "stdout",
          "text": [
            "      sn  pclass   age  family     fare  family_size  gender_male  embarked_Q  \\\n",
            "148  147       2  42.0       0       13            1         True       False   \n",
            "871  870       1  64.0       0       26            1         True       False   \n",
            "523  522       1  28.0       0       30            1         True       False   \n",
            "810  809       1  33.0       1       90            2        False        True   \n",
            "343  342       1  54.0       2  81.8583            3        False       False   \n",
            "\n",
            "     embarked_S  title_Col  ...  title_Miss  title_Mlle  title_Mme  title_Mr  \\\n",
            "148        True      False  ...       False       False      False      True   \n",
            "871        True      False  ...       False       False      False      True   \n",
            "523        True      False  ...       False       False      False      True   \n",
            "810       False      False  ...        True       False      False     False   \n",
            "343        True      False  ...       False       False      False     False   \n",
            "\n",
            "     title_Mrs  title_Ms  title_Rev  title_Sir  title_Unknown  \\\n",
            "148      False     False      False      False          False   \n",
            "871      False     False      False      False          False   \n",
            "523      False     False      False      False          False   \n",
            "810      False     False      False      False          False   \n",
            "343       True     False      False      False          False   \n",
            "\n",
            "     title_the Countess  \n",
            "148               False  \n",
            "871               False  \n",
            "523               False  \n",
            "810               False  \n",
            "343               False  \n",
            "\n",
            "[5 rows x 27 columns]\n",
            "        sn  pclass   age  family    fare  family_size  gender_male  \\\n",
            "1234  1233       2  40.0       0      13            1         True   \n",
            "579    578       3  30.0       0  7.2292            1         True   \n",
            "1167  1166       3  44.0       0   7.925            1         True   \n",
            "723    722       3  28.0       0  7.8792            1         True   \n",
            "562    561       3  28.0       0  22.525            1         True   \n",
            "\n",
            "      embarked_Q  embarked_S  title_Col  ...  title_Miss  title_Mlle  \\\n",
            "1234       False        True      False  ...       False       False   \n",
            "579        False       False      False  ...       False       False   \n",
            "1167       False        True      False  ...       False       False   \n",
            "723         True       False      False  ...       False       False   \n",
            "562        False        True      False  ...       False       False   \n",
            "\n",
            "      title_Mme  title_Mr  title_Mrs  title_Ms  title_Rev  title_Sir  \\\n",
            "1234      False      True      False     False      False      False   \n",
            "579       False      True      False     False      False      False   \n",
            "1167      False      True      False     False      False      False   \n",
            "723       False      True      False     False      False      False   \n",
            "562       False      True      False     False      False      False   \n",
            "\n",
            "      title_Unknown  title_the Countess  \n",
            "1234          False               False  \n",
            "579           False               False  \n",
            "1167          False               False  \n",
            "723           False               False  \n",
            "562           False               False  \n",
            "\n",
            "[5 rows x 27 columns]\n",
            "148    0\n",
            "871    0\n",
            "523    1\n",
            "810    1\n",
            "343    1\n",
            "Name: survived, dtype: int64\n",
            "1234    0\n",
            "579     0\n",
            "1167    1\n",
            "723     0\n",
            "562     0\n",
            "Name: survived, dtype: int64\n"
          ]
        }
      ]
    }
  ]
}